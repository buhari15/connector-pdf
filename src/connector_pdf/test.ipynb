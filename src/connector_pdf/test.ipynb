{
 "cells": [
  {
   "cell_type": "code",
   "execution_count": 3,
   "metadata": {},
   "outputs": [
    {
     "name": "stdout",
     "output_type": "stream",
     "text": [
      "PDF generated at /Users/buhariabubakar/Desktop/Projects/PDFGen/test_output.pdf\n"
     ]
    }
   ],
   "source": [
    "from reportlab.platypus import SimpleDocTemplate, Paragraph\n",
    "from reportlab.lib.pagesizes import A4\n",
    "from reportlab.lib.styles import getSampleStyleSheet\n",
    "\n",
    "output_path = \"/Users/buhariabubakar/Desktop/Projects/PDFGen/test_output.pdf\"  # Adjust this path to an accessible location\n",
    "\n",
    "doc = SimpleDocTemplate(output_path, pagesize=A4)\n",
    "styles = getSampleStyleSheet()\n",
    "story = [Paragraph(\"This is a test PDF.\", styles['Normal'])]\n",
    "\n",
    "try:\n",
    "    doc.build(story)\n",
    "    print(f\"PDF generated at {output_path}\")\n",
    "except Exception as e:\n",
    "    print(f\"Error generating PDF: {e}\")\n"
   ]
  }
 ],
 "metadata": {
  "kernelspec": {
   "display_name": "connector-pdf-ps9UOCy1-py3.11",
   "language": "python",
   "name": "python3"
  },
  "language_info": {
   "codemirror_mode": {
    "name": "ipython",
    "version": 3
   },
   "file_extension": ".py",
   "mimetype": "text/x-python",
   "name": "python",
   "nbconvert_exporter": "python",
   "pygments_lexer": "ipython3",
   "version": "3.11.0"
  }
 },
 "nbformat": 4,
 "nbformat_minor": 2
}
